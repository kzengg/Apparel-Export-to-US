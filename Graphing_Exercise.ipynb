{
  "nbformat": 4,
  "nbformat_minor": 0,
  "metadata": {
    "colab": {
      "name": "Graphing Exercise.ipynb",
      "provenance": [],
      "authorship_tag": "ABX9TyOTRrRPUCIjmw6vM6RRvuJ6",
      "include_colab_link": true
    },
    "kernelspec": {
      "name": "python3",
      "display_name": "Python 3"
    },
    "language_info": {
      "name": "python"
    }
  },
  "cells": [
    {
      "cell_type": "markdown",
      "metadata": {
        "id": "view-in-github",
        "colab_type": "text"
      },
      "source": [
        "<a href=\"https://colab.research.google.com/github/kzengg/Apparel-Export-to-US/blob/main/Graphing_Exercise.ipynb\" target=\"_parent\"><img src=\"https://colab.research.google.com/assets/colab-badge.svg\" alt=\"Open In Colab\"/></a>"
      ]
    },
    {
      "cell_type": "code",
      "execution_count": 1,
      "metadata": {
        "id": "smnD5ReMfulV"
      },
      "outputs": [],
      "source": [
        "import pandas as pd\n",
        "import matplotlib.pyplot as plt\n",
        "import seaborn as sns\n",
        "import numpy as np"
      ]
    },
    {
      "cell_type": "code",
      "source": [
        "df = pd.read_excel('/content/Week 43.xlsx')"
      ],
      "metadata": {
        "id": "QqhJwpfbq6gy"
      },
      "execution_count": 3,
      "outputs": []
    },
    {
      "cell_type": "code",
      "source": [
        "df['Country'].value_counts()"
      ],
      "metadata": {
        "colab": {
          "base_uri": "https://localhost:8080/"
        },
        "id": "V4dN3Gxwrejx",
        "outputId": "1430edaf-9b83-4123-d1c7-fca5448cabcc"
      },
      "execution_count": 41,
      "outputs": [
        {
          "output_type": "execute_result",
          "data": {
            "text/plain": [
              "India          8\n",
              "Bangladesh     8\n",
              "El Salvador    8\n",
              "Vietnam        8\n",
              "Honduras       8\n",
              "Nicaragua      8\n",
              "Name: Country, dtype: int64"
            ]
          },
          "metadata": {},
          "execution_count": 41
        }
      ]
    },
    {
      "cell_type": "code",
      "source": [
        "india = df[df['Country'] == 'India']\n",
        "bangladesh = df[df['Country'] == 'Bangladesh']\n",
        "elsalvador = df[df['Country'] == 'El Salvador']\n",
        "vietnam = df[df['Country'] == 'Vietnam']\n",
        "honduras = df[df['Country'] == 'Honduras']\n",
        "nicaragua = df[df['Country'] == 'Nicaragua']"
      ],
      "metadata": {
        "id": "67yJ28SUt4x9"
      },
      "execution_count": 42,
      "outputs": []
    },
    {
      "cell_type": "code",
      "source": [
        "df = df.rename(columns = {'Exports (USD Millions)': 'export_millions'})"
      ],
      "metadata": {
        "id": "C8UznuEMv5GZ"
      },
      "execution_count": 25,
      "outputs": []
    },
    {
      "cell_type": "code",
      "source": [
        "df['month_year'] = df['Year'].astype(str) + ' ' + df['Month']"
      ],
      "metadata": {
        "id": "3erjlAiaxGGI"
      },
      "execution_count": 36,
      "outputs": []
    },
    {
      "cell_type": "code",
      "source": [
        "\n",
        "fig, axes = plt.subplots(nrows = 1, ncols = 6, figsize=(20,4));\n",
        "month_year = india['month_year']\n",
        "# Subplot 1 \n",
        "\n",
        "axes[0].bar(india['month_year'], india['export_millions']);\n",
        "axes[0].set_xticklabels(month_year,rotation=90);\n",
        "axes[0].set_title('Export by India', fontsize = 12);\n",
        "# Subplot 2\n",
        "axes[1].bar(bangladesh['month_year'], bangladesh['export_millions']);\n",
        "axes[1].set_xticklabels(month_year,rotation=90);\n",
        "axes[1].set_title('Export by bangladesh', fontsize = 12);\n",
        "# Subplot 3\n",
        "axes[2].bar(elsalvador['month_year'], elsalvador['export_millions']);\n",
        "axes[2].set_xticklabels(month_year,rotation=90);\n",
        "axes[2].set_title('Export by elsalvador', fontsize = 12);\n",
        "# Subplot 4\n",
        "axes[3].bar(vietnam['month_year'], vietnam['export_millions']);\n",
        "axes[3].set_xticklabels(month_year,rotation=90);\n",
        "axes[3].set_title('Export by vietnam', fontsize = 12);\n",
        "# Subplot 5\n",
        "axes[4].bar(honduras['month_year'], honduras['export_millions']);\n",
        "axes[4].set_xticklabels(month_year,rotation=90);\n",
        "axes[4].set_title('Export by honduras', fontsize = 12);\n",
        "# Subplot 6\n",
        "axes[5].bar(nicaragua['month_year'], nicaragua['export_millions']);\n",
        "axes[5].set_xticklabels(month_year,rotation=90);\n",
        "axes[5].set_title('Export by nicaragua', fontsize = 12);"
      ],
      "metadata": {
        "colab": {
          "base_uri": "https://localhost:8080/",
          "height": 330
        },
        "id": "-WLpLb2byp9y",
        "outputId": "6119cab1-8d3a-4c67-c82e-448e1df43739"
      },
      "execution_count": 84,
      "outputs": [
        {
          "output_type": "display_data",
          "data": {
            "text/plain": [
              "<Figure size 1440x288 with 6 Axes>"
            ],
            "image/png": "[encoded data removed]"
          },
          "metadata": {
            "needs_background": "light"
          }
        }
      ]
    }
  ]
}